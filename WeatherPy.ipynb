{
 "cells": [
  {
   "cell_type": "code",
   "execution_count": 72,
   "id": "91f19f57",
   "metadata": {},
   "outputs": [],
   "source": [
    "import requests\n",
    "import random\n",
    "import numpy as np\n",
    "import pandas as pd\n",
    "from config import weather_api_key\n",
    "import datetime as dt"
   ]
  },
  {
   "cell_type": "code",
   "execution_count": 2,
   "id": "95450378",
   "metadata": {},
   "outputs": [
    {
     "data": {
      "text/plain": [
       "array([ 81.50032253, -19.96780419,  21.95265736, ..., -60.38273618,\n",
       "       -64.39962106, -45.73724616])"
      ]
     },
     "execution_count": 2,
     "metadata": {},
     "output_type": "execute_result"
    }
   ],
   "source": [
    "# Other local versions of this global variable will be lats, lat, lts, parallel\n",
    "latitude = np.random.uniform(-90,90, size=1500)\n",
    "latitude"
   ]
  },
  {
   "cell_type": "code",
   "execution_count": 3,
   "id": "289512a4",
   "metadata": {},
   "outputs": [
    {
     "data": {
      "text/plain": [
       "array([-139.57976311, -125.26040004,   12.34516775, ...,  -23.55328532,\n",
       "        115.0244516 ,  -92.88051024])"
      ]
     },
     "execution_count": 3,
     "metadata": {},
     "output_type": "execute_result"
    }
   ],
   "source": [
    "# Other local versions of this global variable will be long, lon, lng, meridian, \n",
    "longitude = np.random.uniform(-180,180, size=1500)\n",
    "longitude"
   ]
  },
  {
   "cell_type": "code",
   "execution_count": 4,
   "id": "dc53bc3b",
   "metadata": {},
   "outputs": [
    {
     "data": {
      "text/plain": [
       "(81.50032252555545, -139.57976310572855)"
      ]
     },
     "execution_count": 4,
     "metadata": {},
     "output_type": "execute_result"
    }
   ],
   "source": [
    "lat_long = list(zip(latitude, longitude))\n",
    "lat_long[0]"
   ]
  },
  {
   "cell_type": "code",
   "execution_count": 21,
   "id": "e2c8ac97",
   "metadata": {},
   "outputs": [
    {
     "data": {
      "text/plain": [
       "<citipy.citipy.City at 0x2b1898000a0>"
      ]
     },
     "execution_count": 21,
     "metadata": {},
     "output_type": "execute_result"
    }
   ],
   "source": [
    "from citipy import citipy\n",
    "cities = set()\n",
    "for lat, long in lat_long:\n",
    "    c = citipy.nearest_city(lat, long)\n",
    "    if c not in cities:\n",
    "        cities.add(c)#, c.country_code))\n",
    "cities = list(cities)\n",
    "cities[0]"
   ]
  },
  {
   "cell_type": "code",
   "execution_count": 13,
   "id": "5ca1d3d1",
   "metadata": {},
   "outputs": [],
   "source": [
    "params= {'APPID':weather_api_key,\n",
    "        'q': 'Boston',\n",
    "        'units':'Imperial'}\n",
    "\n",
    "url = f\"https://api.openweathermap.org/data/2.5/weather\"#?lat={lat_long[0][0]}&lon={lat_long[0][1]}&appid={weather_api_key}\"\n",
    "response = requests.get(url, params).json()"
   ]
  },
  {
   "cell_type": "code",
   "execution_count": 34,
   "id": "c11b547d",
   "metadata": {},
   "outputs": [
    {
     "data": {
      "text/html": [
       "<div>\n",
       "<style scoped>\n",
       "    .dataframe tbody tr th:only-of-type {\n",
       "        vertical-align: middle;\n",
       "    }\n",
       "\n",
       "    .dataframe tbody tr th {\n",
       "        vertical-align: top;\n",
       "    }\n",
       "\n",
       "    .dataframe thead th {\n",
       "        text-align: right;\n",
       "    }\n",
       "</style>\n",
       "<table border=\"1\" class=\"dataframe\">\n",
       "  <thead>\n",
       "    <tr style=\"text-align: right;\">\n",
       "      <th></th>\n",
       "      <th>City</th>\n",
       "      <th>Country</th>\n",
       "      <th>Date</th>\n",
       "      <th>Lat</th>\n",
       "      <th>Lon</th>\n",
       "      <th>Max Temp</th>\n",
       "      <th>Humidity</th>\n",
       "      <th>Cloudiness</th>\n",
       "      <th>Wind Speed</th>\n",
       "      <th>Description</th>\n",
       "    </tr>\n",
       "  </thead>\n",
       "  <tbody>\n",
       "    <tr>\n",
       "      <th>0</th>\n",
       "      <td>Singapore</td>\n",
       "      <td>SG</td>\n",
       "      <td></td>\n",
       "      <td></td>\n",
       "      <td></td>\n",
       "      <td></td>\n",
       "      <td></td>\n",
       "      <td></td>\n",
       "      <td></td>\n",
       "      <td></td>\n",
       "    </tr>\n",
       "    <tr>\n",
       "      <th>1</th>\n",
       "      <td>Saint george</td>\n",
       "      <td>BM</td>\n",
       "      <td></td>\n",
       "      <td></td>\n",
       "      <td></td>\n",
       "      <td></td>\n",
       "      <td></td>\n",
       "      <td></td>\n",
       "      <td></td>\n",
       "      <td></td>\n",
       "    </tr>\n",
       "    <tr>\n",
       "      <th>2</th>\n",
       "      <td>Meyungs</td>\n",
       "      <td>PW</td>\n",
       "      <td></td>\n",
       "      <td></td>\n",
       "      <td></td>\n",
       "      <td></td>\n",
       "      <td></td>\n",
       "      <td></td>\n",
       "      <td></td>\n",
       "      <td></td>\n",
       "    </tr>\n",
       "    <tr>\n",
       "      <th>3</th>\n",
       "      <td>Svetlogorsk</td>\n",
       "      <td>RU</td>\n",
       "      <td></td>\n",
       "      <td></td>\n",
       "      <td></td>\n",
       "      <td></td>\n",
       "      <td></td>\n",
       "      <td></td>\n",
       "      <td></td>\n",
       "      <td></td>\n",
       "    </tr>\n",
       "    <tr>\n",
       "      <th>4</th>\n",
       "      <td>Montego bay</td>\n",
       "      <td>JM</td>\n",
       "      <td></td>\n",
       "      <td></td>\n",
       "      <td></td>\n",
       "      <td></td>\n",
       "      <td></td>\n",
       "      <td></td>\n",
       "      <td></td>\n",
       "      <td></td>\n",
       "    </tr>\n",
       "    <tr>\n",
       "      <th>...</th>\n",
       "      <td>...</td>\n",
       "      <td>...</td>\n",
       "      <td>...</td>\n",
       "      <td>...</td>\n",
       "      <td>...</td>\n",
       "      <td>...</td>\n",
       "      <td>...</td>\n",
       "      <td>...</td>\n",
       "      <td>...</td>\n",
       "      <td>...</td>\n",
       "    </tr>\n",
       "    <tr>\n",
       "      <th>621</th>\n",
       "      <td>Vostok</td>\n",
       "      <td>RU</td>\n",
       "      <td></td>\n",
       "      <td></td>\n",
       "      <td></td>\n",
       "      <td></td>\n",
       "      <td></td>\n",
       "      <td></td>\n",
       "      <td></td>\n",
       "      <td></td>\n",
       "    </tr>\n",
       "    <tr>\n",
       "      <th>622</th>\n",
       "      <td>Oussouye</td>\n",
       "      <td>SN</td>\n",
       "      <td></td>\n",
       "      <td></td>\n",
       "      <td></td>\n",
       "      <td></td>\n",
       "      <td></td>\n",
       "      <td></td>\n",
       "      <td></td>\n",
       "      <td></td>\n",
       "    </tr>\n",
       "    <tr>\n",
       "      <th>623</th>\n",
       "      <td>Dalbandin</td>\n",
       "      <td>PK</td>\n",
       "      <td></td>\n",
       "      <td></td>\n",
       "      <td></td>\n",
       "      <td></td>\n",
       "      <td></td>\n",
       "      <td></td>\n",
       "      <td></td>\n",
       "      <td></td>\n",
       "    </tr>\n",
       "    <tr>\n",
       "      <th>624</th>\n",
       "      <td>Saldanha</td>\n",
       "      <td>ZA</td>\n",
       "      <td></td>\n",
       "      <td></td>\n",
       "      <td></td>\n",
       "      <td></td>\n",
       "      <td></td>\n",
       "      <td></td>\n",
       "      <td></td>\n",
       "      <td></td>\n",
       "    </tr>\n",
       "    <tr>\n",
       "      <th>625</th>\n",
       "      <td>Baruun-urt</td>\n",
       "      <td>MN</td>\n",
       "      <td></td>\n",
       "      <td></td>\n",
       "      <td></td>\n",
       "      <td></td>\n",
       "      <td></td>\n",
       "      <td></td>\n",
       "      <td></td>\n",
       "      <td></td>\n",
       "    </tr>\n",
       "  </tbody>\n",
       "</table>\n",
       "<p>626 rows × 10 columns</p>\n",
       "</div>"
      ],
      "text/plain": [
       "             City Country Date Lat Lon Max Temp Humidity Cloudiness  \\\n",
       "0       Singapore      SG                                             \n",
       "1    Saint george      BM                                             \n",
       "2         Meyungs      PW                                             \n",
       "3     Svetlogorsk      RU                                             \n",
       "4     Montego bay      JM                                             \n",
       "..            ...     ...  ...  ..  ..      ...      ...        ...   \n",
       "621        Vostok      RU                                             \n",
       "622      Oussouye      SN                                             \n",
       "623     Dalbandin      PK                                             \n",
       "624      Saldanha      ZA                                             \n",
       "625    Baruun-urt      MN                                             \n",
       "\n",
       "    Wind Speed Description  \n",
       "0                           \n",
       "1                           \n",
       "2                           \n",
       "3                           \n",
       "4                           \n",
       "..         ...         ...  \n",
       "621                         \n",
       "622                         \n",
       "623                         \n",
       "624                         \n",
       "625                         \n",
       "\n",
       "[626 rows x 10 columns]"
      ]
     },
     "execution_count": 34,
     "metadata": {},
     "output_type": "execute_result"
    }
   ],
   "source": [
    "# pd.DataFrame has: City, Country, Date, lat, lon, Max Temp, Humidity, Cloudiness, Wind Speed\n",
    "city_dict = []\n",
    "\n",
    "# use the cities list to start the dataframe\n",
    "for place in cities:\n",
    "    p = dict()\n",
    "    p['City'] = place.city_name.capitalize()\n",
    "    p['Country'] = place.country_code.upper()\n",
    "    city_dict.append(p)    \n",
    "    \n",
    "city_df = pd.DataFrame(city_dict)\n",
    "city_df['Date'] = ''\n",
    "city_df['Lat'] = ''\n",
    "city_df['Lon'] = ''\n",
    "city_df['Max Temp'] = ''\n",
    "city_df['Humidity'] = ''\n",
    "city_df['Cloudiness'] = ''\n",
    "city_df['Wind Speed'] = ''\n",
    "city_df['Description'] = ''\n",
    "city_df\n"
   ]
  },
  {
   "cell_type": "code",
   "execution_count": 58,
   "id": "135eb8d0",
   "metadata": {},
   "outputs": [
    {
     "data": {
      "text/plain": [
       "1658427315"
      ]
     },
     "execution_count": 58,
     "metadata": {},
     "output_type": "execute_result"
    }
   ],
   "source": [
    "# retieve the weather information for each city and fill in the data\n",
    "\n",
    "# for index, row in city_df.itterrows:\n",
    "#     print(index, row)\n",
    "    \n",
    "# Date = dt.datetime.utcfromtimestamp(response['dt']).strftime('%Y-%m-%d %H:%M:%S') \n",
    "# Lat = response['coord']['lat']\n",
    "# Lon = response['coord']['lon']\n",
    "# Temp Max = response['main']['temp_max']\n",
    "# Humidity = response['main']['humidity']\n",
    "# Cloudines = \n",
    "# Wind Speed = response['wind']['speed']\n",
    "# Description = response['weather'][0]['description']"
   ]
  },
  {
   "cell_type": "code",
   "execution_count": 71,
   "id": "c4b3b6a1",
   "metadata": {},
   "outputs": [
    {
     "data": {
      "text/plain": [
       "'2022-07-21 18:15:15'"
      ]
     },
     "execution_count": 71,
     "metadata": {},
     "output_type": "execute_result"
    }
   ],
   "source": []
  },
  {
   "cell_type": "code",
   "execution_count": null,
   "id": "030d582e",
   "metadata": {},
   "outputs": [],
   "source": []
  }
 ],
 "metadata": {
  "kernelspec": {
   "display_name": "Python 3 (ipykernel)",
   "language": "python",
   "name": "python3"
  },
  "language_info": {
   "codemirror_mode": {
    "name": "ipython",
    "version": 3
   },
   "file_extension": ".py",
   "mimetype": "text/x-python",
   "name": "python",
   "nbconvert_exporter": "python",
   "pygments_lexer": "ipython3",
   "version": "3.9.12"
  }
 },
 "nbformat": 4,
 "nbformat_minor": 5
}
