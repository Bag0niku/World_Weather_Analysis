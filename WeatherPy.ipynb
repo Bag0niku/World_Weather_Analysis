{
 "cells": [
  {
   "cell_type": "code",
   "execution_count": 1,
   "id": "91f19f57",
   "metadata": {},
   "outputs": [],
   "source": [
    "import random\n",
    "import numpy as np\n",
    "import pandas as pd"
   ]
  },
  {
   "cell_type": "code",
   "execution_count": 2,
   "id": "95450378",
   "metadata": {},
   "outputs": [
    {
     "data": {
      "text/plain": [
       "array([ 44.72535155,   1.37773002,  -3.8255294 , ...,  82.1655134 ,\n",
       "       -14.79611108, -48.90595761])"
      ]
     },
     "execution_count": 2,
     "metadata": {},
     "output_type": "execute_result"
    }
   ],
   "source": [
    "latitude = np.random.uniform(-90,90, size=1500)\n",
    "latitude"
   ]
  },
  {
   "cell_type": "code",
   "execution_count": 3,
   "id": "289512a4",
   "metadata": {},
   "outputs": [
    {
     "data": {
      "text/plain": [
       "array([ -87.85546679,  -67.89705895,   -5.60362299, ...,   74.66956206,\n",
       "        -89.2979151 , -108.94137414])"
      ]
     },
     "execution_count": 3,
     "metadata": {},
     "output_type": "execute_result"
    }
   ],
   "source": [
    "longitude = np.random.uniform(-180,180, size=1500)\n",
    "longitude"
   ]
  },
  {
   "cell_type": "code",
   "execution_count": 4,
   "id": "dc53bc3b",
   "metadata": {},
   "outputs": [
    {
     "data": {
      "text/plain": [
       "(44.72535155356806, -87.85546679424108)"
      ]
     },
     "execution_count": 4,
     "metadata": {},
     "output_type": "execute_result"
    }
   ],
   "source": [
    "lat_long = list(zip(latitude, longitude))\n",
    "lat_long[0]"
   ]
  },
  {
   "cell_type": "code",
   "execution_count": 13,
   "id": "e2c8ac97",
   "metadata": {},
   "outputs": [
    {
     "data": {
      "text/plain": [
       "list"
      ]
     },
     "execution_count": 13,
     "metadata": {},
     "output_type": "execute_result"
    }
   ],
   "source": [
    "from citipy import citipy\n",
    "cities = set()\n",
    "for lat, long in lat_long:\n",
    "    c = citipy.nearest_city(lat, long)\n",
    "    if c.city_name not in cities:\n",
    "        cities.add(c.city_name)#, c.country_code))\n",
    "cities = list(cities)\n",
    "type(cities)"
   ]
  },
  {
   "cell_type": "code",
   "execution_count": null,
   "id": "5ca1d3d1",
   "metadata": {},
   "outputs": [],
   "source": []
  },
  {
   "cell_type": "code",
   "execution_count": null,
   "id": "c11b547d",
   "metadata": {},
   "outputs": [],
   "source": []
  },
  {
   "cell_type": "code",
   "execution_count": null,
   "id": "fa261339",
   "metadata": {},
   "outputs": [],
   "source": []
  }
 ],
 "metadata": {
  "kernelspec": {
   "display_name": "Python 3 (ipykernel)",
   "language": "python",
   "name": "python3"
  },
  "language_info": {
   "codemirror_mode": {
    "name": "ipython",
    "version": 3
   },
   "file_extension": ".py",
   "mimetype": "text/x-python",
   "name": "python",
   "nbconvert_exporter": "python",
   "pygments_lexer": "ipython3",
   "version": "3.9.12"
  }
 },
 "nbformat": 4,
 "nbformat_minor": 5
}
