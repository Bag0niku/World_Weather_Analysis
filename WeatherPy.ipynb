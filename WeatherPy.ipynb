{
 "cells": [
  {
   "cell_type": "code",
   "execution_count": 1,
   "id": "91f19f57",
   "metadata": {},
   "outputs": [],
   "source": [
    "import datetime as dt\n",
    "import time\n",
    "import requests\n",
    "import random\n",
    "import numpy as np\n",
    "import pandas as pd\n",
    "from config import weather_api_key\n"
   ]
  },
  {
   "cell_type": "code",
   "execution_count": 2,
   "id": "95450378",
   "metadata": {},
   "outputs": [
    {
     "data": {
      "text/plain": [
       "array([ 47.85120475, -72.38823096,  38.69037412, ...,  18.09266339,\n",
       "        60.52161987,   5.96235474])"
      ]
     },
     "execution_count": 2,
     "metadata": {},
     "output_type": "execute_result"
    }
   ],
   "source": [
    "# Other local versions of this global variable will be lats, lat, lts, parallel\n",
    "latitude = np.random.uniform(-90,90, size=1500)\n",
    "latitude"
   ]
  },
  {
   "cell_type": "code",
   "execution_count": 3,
   "id": "289512a4",
   "metadata": {},
   "outputs": [
    {
     "data": {
      "text/plain": [
       "array([-153.50492994,  -26.99672584, -143.78246577, ..., -117.37456311,\n",
       "        138.88833257, -117.61184366])"
      ]
     },
     "execution_count": 3,
     "metadata": {},
     "output_type": "execute_result"
    }
   ],
   "source": [
    "# Other local versions of this global variable will be long, lon, lng, meridian, \n",
    "longitude = np.random.uniform(-180,180, size=1500)\n",
    "longitude"
   ]
  },
  {
   "cell_type": "code",
   "execution_count": 4,
   "id": "dc53bc3b",
   "metadata": {},
   "outputs": [
    {
     "data": {
      "text/plain": [
       "(47.85120474566784, -153.504929935395)"
      ]
     },
     "execution_count": 4,
     "metadata": {},
     "output_type": "execute_result"
    }
   ],
   "source": [
    "lat_long = list(zip(latitude, longitude))\n",
    "lat_long[0]"
   ]
  },
  {
   "cell_type": "code",
   "execution_count": 5,
   "id": "e2c8ac97",
   "metadata": {},
   "outputs": [
    {
     "data": {
      "text/plain": [
       "<citipy.citipy.City at 0x1e2edc08040>"
      ]
     },
     "execution_count": 5,
     "metadata": {},
     "output_type": "execute_result"
    }
   ],
   "source": [
    "from citipy import citipy\n",
    "cities = set()\n",
    "for lat, long in lat_long:\n",
    "    c = citipy.nearest_city(lat, long)\n",
    "    if c not in cities:\n",
    "        cities.add(c)#, c.country_code))\n",
    "cities = list(cities)\n",
    "cities[0]"
   ]
  },
  {
   "cell_type": "code",
   "execution_count": 6,
   "id": "5ca1d3d1",
   "metadata": {},
   "outputs": [
    {
     "data": {
      "text/plain": [
       "200"
      ]
     },
     "execution_count": 6,
     "metadata": {},
     "output_type": "execute_result"
    }
   ],
   "source": [
    "params= {'APPID':weather_api_key,\n",
    "        'q': 'Boston',\n",
    "        'units':'Imperial'}\n",
    "\n",
    "url = f\"https://api.openweathermap.org/data/2.5/weather\"#?lat={lat_long[0][0]}&lon={lat_long[0][1]}&appid={weather_api_key}\"\n",
    "response = requests.get(url, params).json()\n",
    "response['cod']"
   ]
  },
  {
   "cell_type": "code",
   "execution_count": 7,
   "id": "c11b547d",
   "metadata": {},
   "outputs": [
    {
     "data": {
      "text/html": [
       "<div>\n",
       "<style scoped>\n",
       "    .dataframe tbody tr th:only-of-type {\n",
       "        vertical-align: middle;\n",
       "    }\n",
       "\n",
       "    .dataframe tbody tr th {\n",
       "        vertical-align: top;\n",
       "    }\n",
       "\n",
       "    .dataframe thead th {\n",
       "        text-align: right;\n",
       "    }\n",
       "</style>\n",
       "<table border=\"1\" class=\"dataframe\">\n",
       "  <thead>\n",
       "    <tr style=\"text-align: right;\">\n",
       "      <th></th>\n",
       "      <th>City</th>\n",
       "      <th>Country</th>\n",
       "      <th>Date</th>\n",
       "      <th>Lat</th>\n",
       "      <th>Lon</th>\n",
       "      <th>Max Temp</th>\n",
       "      <th>Humidity</th>\n",
       "      <th>Cloudiness</th>\n",
       "      <th>Wind Speed</th>\n",
       "      <th>Description</th>\n",
       "    </tr>\n",
       "  </thead>\n",
       "  <tbody>\n",
       "    <tr>\n",
       "      <th>0</th>\n",
       "      <td>Husavik</td>\n",
       "      <td>IS</td>\n",
       "      <td></td>\n",
       "      <td></td>\n",
       "      <td></td>\n",
       "      <td></td>\n",
       "      <td></td>\n",
       "      <td></td>\n",
       "      <td></td>\n",
       "      <td></td>\n",
       "    </tr>\n",
       "    <tr>\n",
       "      <th>1</th>\n",
       "      <td>Taltal</td>\n",
       "      <td>CL</td>\n",
       "      <td></td>\n",
       "      <td></td>\n",
       "      <td></td>\n",
       "      <td></td>\n",
       "      <td></td>\n",
       "      <td></td>\n",
       "      <td></td>\n",
       "      <td></td>\n",
       "    </tr>\n",
       "    <tr>\n",
       "      <th>2</th>\n",
       "      <td>Barcelos</td>\n",
       "      <td>BR</td>\n",
       "      <td></td>\n",
       "      <td></td>\n",
       "      <td></td>\n",
       "      <td></td>\n",
       "      <td></td>\n",
       "      <td></td>\n",
       "      <td></td>\n",
       "      <td></td>\n",
       "    </tr>\n",
       "    <tr>\n",
       "      <th>3</th>\n",
       "      <td>Sulangan</td>\n",
       "      <td>PH</td>\n",
       "      <td></td>\n",
       "      <td></td>\n",
       "      <td></td>\n",
       "      <td></td>\n",
       "      <td></td>\n",
       "      <td></td>\n",
       "      <td></td>\n",
       "      <td></td>\n",
       "    </tr>\n",
       "    <tr>\n",
       "      <th>4</th>\n",
       "      <td>Hvammstangi</td>\n",
       "      <td>IS</td>\n",
       "      <td></td>\n",
       "      <td></td>\n",
       "      <td></td>\n",
       "      <td></td>\n",
       "      <td></td>\n",
       "      <td></td>\n",
       "      <td></td>\n",
       "      <td></td>\n",
       "    </tr>\n",
       "    <tr>\n",
       "      <th>...</th>\n",
       "      <td>...</td>\n",
       "      <td>...</td>\n",
       "      <td>...</td>\n",
       "      <td>...</td>\n",
       "      <td>...</td>\n",
       "      <td>...</td>\n",
       "      <td>...</td>\n",
       "      <td>...</td>\n",
       "      <td>...</td>\n",
       "      <td>...</td>\n",
       "    </tr>\n",
       "    <tr>\n",
       "      <th>615</th>\n",
       "      <td>Ancud</td>\n",
       "      <td>CL</td>\n",
       "      <td></td>\n",
       "      <td></td>\n",
       "      <td></td>\n",
       "      <td></td>\n",
       "      <td></td>\n",
       "      <td></td>\n",
       "      <td></td>\n",
       "      <td></td>\n",
       "    </tr>\n",
       "    <tr>\n",
       "      <th>616</th>\n",
       "      <td>Ambon</td>\n",
       "      <td>ID</td>\n",
       "      <td></td>\n",
       "      <td></td>\n",
       "      <td></td>\n",
       "      <td></td>\n",
       "      <td></td>\n",
       "      <td></td>\n",
       "      <td></td>\n",
       "      <td></td>\n",
       "    </tr>\n",
       "    <tr>\n",
       "      <th>617</th>\n",
       "      <td>Ambulu</td>\n",
       "      <td>ID</td>\n",
       "      <td></td>\n",
       "      <td></td>\n",
       "      <td></td>\n",
       "      <td></td>\n",
       "      <td></td>\n",
       "      <td></td>\n",
       "      <td></td>\n",
       "      <td></td>\n",
       "    </tr>\n",
       "    <tr>\n",
       "      <th>618</th>\n",
       "      <td>Tarakan</td>\n",
       "      <td>ID</td>\n",
       "      <td></td>\n",
       "      <td></td>\n",
       "      <td></td>\n",
       "      <td></td>\n",
       "      <td></td>\n",
       "      <td></td>\n",
       "      <td></td>\n",
       "      <td></td>\n",
       "    </tr>\n",
       "    <tr>\n",
       "      <th>619</th>\n",
       "      <td>Christchurch</td>\n",
       "      <td>NZ</td>\n",
       "      <td></td>\n",
       "      <td></td>\n",
       "      <td></td>\n",
       "      <td></td>\n",
       "      <td></td>\n",
       "      <td></td>\n",
       "      <td></td>\n",
       "      <td></td>\n",
       "    </tr>\n",
       "  </tbody>\n",
       "</table>\n",
       "<p>620 rows × 10 columns</p>\n",
       "</div>"
      ],
      "text/plain": [
       "             City Country Date Lat Lon Max Temp Humidity Cloudiness  \\\n",
       "0         Husavik      IS                                             \n",
       "1          Taltal      CL                                             \n",
       "2        Barcelos      BR                                             \n",
       "3        Sulangan      PH                                             \n",
       "4     Hvammstangi      IS                                             \n",
       "..            ...     ...  ...  ..  ..      ...      ...        ...   \n",
       "615         Ancud      CL                                             \n",
       "616         Ambon      ID                                             \n",
       "617        Ambulu      ID                                             \n",
       "618       Tarakan      ID                                             \n",
       "619  Christchurch      NZ                                             \n",
       "\n",
       "    Wind Speed Description  \n",
       "0                           \n",
       "1                           \n",
       "2                           \n",
       "3                           \n",
       "4                           \n",
       "..         ...         ...  \n",
       "615                         \n",
       "616                         \n",
       "617                         \n",
       "618                         \n",
       "619                         \n",
       "\n",
       "[620 rows x 10 columns]"
      ]
     },
     "execution_count": 7,
     "metadata": {},
     "output_type": "execute_result"
    }
   ],
   "source": [
    "# pd.DataFrame has: City, Country, Date, lat, lon, Max Temp, Humidity, Cloudiness, Wind Speed\n",
    "city_dict = []\n",
    "\n",
    "# use the cities list to start the dataframe\n",
    "for place in cities:\n",
    "    p = dict()\n",
    "    p['City'] = place.city_name.capitalize()\n",
    "    p['Country'] = place.country_code.upper()\n",
    "    city_dict.append(p)    \n",
    "    \n",
    "city_df = pd.DataFrame(city_dict)\n",
    "city_df['Date'] = ''\n",
    "city_df['Lat'] = ''\n",
    "city_df['Lon'] = ''\n",
    "city_df['Max Temp'] = ''\n",
    "city_df['Humidity'] = ''\n",
    "city_df['Cloudiness'] = ''\n",
    "city_df['Wind Speed'] = ''\n",
    "city_df['Description'] = ''\n",
    "city_df\n"
   ]
  },
  {
   "cell_type": "code",
   "execution_count": 8,
   "id": "135eb8d0",
   "metadata": {},
   "outputs": [
    {
     "name": "stdout",
     "output_type": "stream",
     "text": [
      "City: Husavik   |  KeyError, HTTP Code: 200\n",
      "City: Taltal   |  KeyError, HTTP Code: 200\n",
      "City: Barcelos   |  KeyError, HTTP Code: 200\n",
      "City: Sulangan   |  KeyError, HTTP Code: 200\n",
      "City: Hvammstangi   |  KeyError, HTTP Code: 404\n",
      "City: Pochutla   |  KeyError, HTTP Code: 200\n",
      "City: Bengkulu   |  KeyError, HTTP Code: 200\n",
      "City: Zhigalovo   |  KeyError, HTTP Code: 200\n",
      "City: Zhigansk   |  KeyError, HTTP Code: 200\n",
      "City: Gornyy   |  KeyError, HTTP Code: 200\n",
      "City: Pingliang   |  KeyError, HTTP Code: 200\n",
      "City: Biak   |  KeyError, HTTP Code: 200\n",
      "City: Warwick   |  KeyError, HTTP Code: 200\n",
      "City: Saint-philippe   |  KeyError, HTTP Code: 200\n",
      "City: Dwarka   |  KeyError, HTTP Code: 200\n",
      "City: Koygorodok   |  KeyError, HTTP Code: 200\n",
      "City: Weiser   |  KeyError, HTTP Code: 200\n",
      "City: Bikin   |  KeyError, HTTP Code: 200\n",
      "City: Cabo san lucas   |  KeyError, HTTP Code: 200\n",
      "City: Nong kung si   |  KeyError, HTTP Code: 200\n",
      "City: San ramon de la nueva oran   |  KeyError, HTTP Code: 200\n",
      "City: East london   |  KeyError, HTTP Code: 200\n",
      "City: Abonnema   |  KeyError, HTTP Code: 200\n",
      "City: Nipawin   |  KeyError, HTTP Code: 200\n",
      "City: Bandarbeyla   |  KeyError, HTTP Code: 200\n",
      "City: Skagastrond   |  KeyError, HTTP Code: 404\n",
      "City: Moville   |  KeyError, HTTP Code: 200\n",
      "City: Silivri   |  KeyError, HTTP Code: 200\n",
      "City: Alotau   |  KeyError, HTTP Code: 404\n",
      "City: Ratnagiri   |  KeyError, HTTP Code: 200\n",
      "City: Norman wells   |  KeyError, HTTP Code: 200\n",
      "City: Bargal   |  KeyError, HTTP Code: 404\n",
      "City: Bira   |  KeyError, HTTP Code: 200\n",
      "City: Olinda   |  KeyError, HTTP Code: 200\n",
      "City: Vestmannaeyjar   |  KeyError, HTTP Code: 200\n",
      "City: Brae   |  KeyError, HTTP Code: 200\n",
      "City: Huarmey   |  KeyError, HTTP Code: 200\n",
      "City: Mezotur   |  KeyError, HTTP Code: 200\n",
      "City: Goderich   |  KeyError, HTTP Code: 200\n",
      "City: Koungou   |  KeyError, HTTP Code: 200\n",
      "City: Yulara   |  KeyError, HTTP Code: 200\n",
      "City: Yoichi   |  KeyError, HTTP Code: 200\n",
      "City: Progreso   |  KeyError, HTTP Code: 200\n",
      "City: Balimo   |  KeyError, HTTP Code: 404\n",
      "City: Oranjestad   |  KeyError, HTTP Code: 200\n",
      "City: Masterton   |  KeyError, HTTP Code: 200\n",
      "City: General pico   |  KeyError, HTTP Code: 200\n",
      "City: Katsuura   |  KeyError, HTTP Code: 200\n",
      "City: Barrow   |  KeyError, HTTP Code: 200\n",
      "City: Mecca   |  KeyError, HTTP Code: 200\n",
      "50 Sleep Here\n"
     ]
    },
    {
     "ename": "KeyboardInterrupt",
     "evalue": "",
     "output_type": "error",
     "traceback": [
      "\u001b[1;31m---------------------------------------------------------------------------\u001b[0m",
      "\u001b[1;31mKeyboardInterrupt\u001b[0m                         Traceback (most recent call last)",
      "Input \u001b[1;32mIn [8]\u001b[0m, in \u001b[0;36m<cell line: 3>\u001b[1;34m()\u001b[0m\n\u001b[0;32m      4\u001b[0m \u001b[38;5;28;01mif\u001b[39;00m (index \u001b[38;5;241m%\u001b[39m \u001b[38;5;241m50\u001b[39m \u001b[38;5;241m==\u001b[39m \u001b[38;5;241m0\u001b[39m) \u001b[38;5;129;01mand\u001b[39;00m (index \u001b[38;5;241m>\u001b[39m \u001b[38;5;241m0\u001b[39m):\n\u001b[0;32m      5\u001b[0m     \u001b[38;5;28mprint\u001b[39m(index, \u001b[38;5;124m'\u001b[39m\u001b[38;5;124mSleep Here\u001b[39m\u001b[38;5;124m'\u001b[39m)\n\u001b[1;32m----> 6\u001b[0m     \u001b[43mtime\u001b[49m\u001b[38;5;241;43m.\u001b[39;49m\u001b[43msleep\u001b[49m\u001b[43m(\u001b[49m\u001b[38;5;241;43m60\u001b[39;49m\u001b[43m)\u001b[49m\n\u001b[0;32m      7\u001b[0m \u001b[38;5;28;01melse\u001b[39;00m: \n\u001b[0;32m      8\u001b[0m     \u001b[38;5;28;01mpass\u001b[39;00m\n",
      "\u001b[1;31mKeyboardInterrupt\u001b[0m: "
     ]
    }
   ],
   "source": [
    "# retieve the weather information for each city and fill in the data\n",
    "# Note: Open Weather API only allows 60 api calls per minute\n",
    "for index in city_df.index:\n",
    "    if (index % 50 == 0) and (index > 0):\n",
    "        print(index, 'Sleep Here')\n",
    "        time.sleep(60)\n",
    "    else: \n",
    "        pass\n",
    "# # Retrive the weather information for each city\n",
    "    params['q'] = city_df['City'][index]\n",
    "    response = requests.get(url, params).json()\n",
    "\n",
    "    # Save the weather information for the city    \n",
    "    try:\n",
    "        city_df['Date'][index] = dt.datetime.utcfromtimestamp(response['dt']).strftime('%Y-%m-%d %H:%M:%S') \n",
    "        city_df['Lat'][index] = response['coord']['lat']\n",
    "        city_df['Lon'][index] = response['coord']['lon']\n",
    "        city_df['Max Temp'][index] = response['main']['temp_max']\n",
    "        city_df['Humidity'][index] = response['main']['humidity']\n",
    "        city_df['Wind Speed'][index] = response['wind']['speed']\n",
    "        city_df['Description'][index] = response['weather'][0]['description']\n",
    "        city_df['Cloudines'][index] = response['clouds']['all']\n",
    "    except KeyError:\n",
    "        print('City:', params['q'], '  |  KeyError, HTTP Code:', response['cod'])\n",
    "    \n",
    "\n",
    "city_df"
   ]
  },
  {
   "cell_type": "code",
   "execution_count": null,
   "id": "098b80ab",
   "metadata": {},
   "outputs": [],
   "source": []
  },
  {
   "cell_type": "code",
   "execution_count": null,
   "id": "15f9cc9a",
   "metadata": {},
   "outputs": [],
   "source": []
  }
 ],
 "metadata": {
  "kernelspec": {
   "display_name": "Python 3 (ipykernel)",
   "language": "python",
   "name": "python3"
  },
  "language_info": {
   "codemirror_mode": {
    "name": "ipython",
    "version": 3
   },
   "file_extension": ".py",
   "mimetype": "text/x-python",
   "name": "python",
   "nbconvert_exporter": "python",
   "pygments_lexer": "ipython3",
   "version": "3.9.12"
  }
 },
 "nbformat": 4,
 "nbformat_minor": 5
}
