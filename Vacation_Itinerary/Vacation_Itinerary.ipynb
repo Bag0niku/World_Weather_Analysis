{
 "cells": [
  {
   "cell_type": "markdown",
   "metadata": {},
   "source": [
    "## Deliverable 3. Create a Travel Itinerary Map."
   ]
  },
  {
   "cell_type": "code",
   "execution_count": 1,
   "metadata": {},
   "outputs": [],
   "source": [
    "# Dependencies and Setup\n",
    "import os \n",
    "import requests\n",
    "import pandas as pd\n",
    "import gmaps\n",
    "\n",
    "# Import API key\n",
    "from config import gkey\n",
    "\n",
    "# Configure gmaps\n",
    "gmaps.configure(api_key=gkey)"
   ]
  },
  {
   "cell_type": "code",
   "execution_count": 2,
   "metadata": {},
   "outputs": [
    {
     "data": {
      "text/html": [
       "<div>\n",
       "<style scoped>\n",
       "    .dataframe tbody tr th:only-of-type {\n",
       "        vertical-align: middle;\n",
       "    }\n",
       "\n",
       "    .dataframe tbody tr th {\n",
       "        vertical-align: top;\n",
       "    }\n",
       "\n",
       "    .dataframe thead th {\n",
       "        text-align: right;\n",
       "    }\n",
       "</style>\n",
       "<table border=\"1\" class=\"dataframe\">\n",
       "  <thead>\n",
       "    <tr style=\"text-align: right;\">\n",
       "      <th></th>\n",
       "      <th>City</th>\n",
       "      <th>Country</th>\n",
       "      <th>Lat</th>\n",
       "      <th>Lon</th>\n",
       "      <th>Max Temp</th>\n",
       "      <th>Description</th>\n",
       "      <th>Hotel Name</th>\n",
       "    </tr>\n",
       "    <tr>\n",
       "      <th>City_ID</th>\n",
       "      <th></th>\n",
       "      <th></th>\n",
       "      <th></th>\n",
       "      <th></th>\n",
       "      <th></th>\n",
       "      <th></th>\n",
       "      <th></th>\n",
       "    </tr>\n",
       "  </thead>\n",
       "  <tbody>\n",
       "    <tr>\n",
       "      <th>0</th>\n",
       "      <td>Neiafu</td>\n",
       "      <td>TO</td>\n",
       "      <td>-18.6500</td>\n",
       "      <td>-173.9833</td>\n",
       "      <td>79.48</td>\n",
       "      <td>scattered clouds</td>\n",
       "      <td>Mystic Sands Beachfront Accommodation</td>\n",
       "    </tr>\n",
       "    <tr>\n",
       "      <th>1</th>\n",
       "      <td>Tecoanapa</td>\n",
       "      <td>MX</td>\n",
       "      <td>16.5167</td>\n",
       "      <td>-98.7500</td>\n",
       "      <td>80.87</td>\n",
       "      <td>scattered clouds</td>\n",
       "      <td>Hotel Manglares</td>\n",
       "    </tr>\n",
       "    <tr>\n",
       "      <th>2</th>\n",
       "      <td>Pangai</td>\n",
       "      <td>TO</td>\n",
       "      <td>-19.8000</td>\n",
       "      <td>-174.3500</td>\n",
       "      <td>78.91</td>\n",
       "      <td>scattered clouds</td>\n",
       "      <td>Ha'apai Beach Resort</td>\n",
       "    </tr>\n",
       "    <tr>\n",
       "      <th>3</th>\n",
       "      <td>Vaini</td>\n",
       "      <td>TO</td>\n",
       "      <td>-21.2000</td>\n",
       "      <td>-175.2000</td>\n",
       "      <td>75.36</td>\n",
       "      <td>scattered clouds</td>\n",
       "      <td>Keleti Beach Resort</td>\n",
       "    </tr>\n",
       "    <tr>\n",
       "      <th>4</th>\n",
       "      <td>Hakui</td>\n",
       "      <td>JP</td>\n",
       "      <td>36.8833</td>\n",
       "      <td>136.7833</td>\n",
       "      <td>79.45</td>\n",
       "      <td>scattered clouds</td>\n",
       "      <td>KYUKAMURA NOTO-CHIRIHAMA</td>\n",
       "    </tr>\n",
       "  </tbody>\n",
       "</table>\n",
       "</div>"
      ],
      "text/plain": [
       "              City Country      Lat       Lon  Max Temp       Description  \\\n",
       "City_ID                                                                     \n",
       "0           Neiafu      TO -18.6500 -173.9833     79.48  scattered clouds   \n",
       "1        Tecoanapa      MX  16.5167  -98.7500     80.87  scattered clouds   \n",
       "2           Pangai      TO -19.8000 -174.3500     78.91  scattered clouds   \n",
       "3            Vaini      TO -21.2000 -175.2000     75.36  scattered clouds   \n",
       "4            Hakui      JP  36.8833  136.7833     79.45  scattered clouds   \n",
       "\n",
       "                                    Hotel Name  \n",
       "City_ID                                         \n",
       "0        Mystic Sands Beachfront Accommodation  \n",
       "1                              Hotel Manglares  \n",
       "2                         Ha'apai Beach Resort  \n",
       "3                          Keleti Beach Resort  \n",
       "4                     KYUKAMURA NOTO-CHIRIHAMA  "
      ]
     },
     "execution_count": 2,
     "metadata": {},
     "output_type": "execute_result"
    }
   ],
   "source": [
    "# 1. Read the WeatherPy_vacation.csv into a DataFrame.\n",
    "vacation_filepath = os.path.join('..', 'Vacation_Search', \"WeatherPy_Vacation.csv\")\n",
    "vacation_df = pd.read_csv(vacation_filepath, index_col='City_ID')\n",
    "vacation_df.head()"
   ]
  },
  {
   "cell_type": "code",
   "execution_count": 3,
   "metadata": {},
   "outputs": [],
   "source": [
    "# 2. Using the template add the city name, the country code, the weather description and maximum temperature for the city.\n",
    "info_box_template = \"\"\"\n",
    "<dl>\n",
    "<dt>Hotel Name</dt>   <dd>{Hotel Name}</dd>\n",
    "<dt>City</dt>   <dd>{City}</dd>\n",
    "<dt>Country</dt>   <dd>{Country}</dd>\n",
    "<dt>Current Weather</dt>   <dd>{Description} and {Max Temp}\\u00B0F</dd>\n",
    "</dl>\n",
    "\"\"\"\n",
    "# 3. Get the data from each row and add it to the formatting template and store the data in a list.\n",
    "hotel_info = [info_box_template.format(**row) for index, row in vacation_df.iterrows()]\n"
   ]
  },
  {
   "cell_type": "code",
   "execution_count": 16,
   "metadata": {},
   "outputs": [
    {
     "data": {
      "application/vnd.jupyter.widget-view+json": {
       "model_id": "aa0d940f16f0446fb204c0ed07931386",
       "version_major": 2,
       "version_minor": 0
      },
      "text/plain": [
       "Figure(layout=FigureLayout(height='420px'))"
      ]
     },
     "metadata": {},
     "output_type": "display_data"
    }
   ],
   "source": [
    "# # 4a. Add a marker layer for each city to the map.\n",
    "vacation_fig = gmaps.figure(center=(30,31), zoom_level=1.5)\n",
    "city_marker = gmaps.marker_layer(vacation_df[['Lat', 'Lon']], info_box_content=hotel_info)\n",
    "vacation_fig.add_layer(city_marker)\n",
    "\n",
    "# # 4b. Display the figure\n",
    "vacation_fig\n",
    "\n"
   ]
  },
  {
   "cell_type": "code",
   "execution_count": 15,
   "metadata": {},
   "outputs": [
    {
     "data": {
      "text/html": [
       "<div>\n",
       "<style scoped>\n",
       "    .dataframe tbody tr th:only-of-type {\n",
       "        vertical-align: middle;\n",
       "    }\n",
       "\n",
       "    .dataframe tbody tr th {\n",
       "        vertical-align: top;\n",
       "    }\n",
       "\n",
       "    .dataframe thead th {\n",
       "        text-align: right;\n",
       "    }\n",
       "</style>\n",
       "<table border=\"1\" class=\"dataframe\">\n",
       "  <thead>\n",
       "    <tr style=\"text-align: right;\">\n",
       "      <th></th>\n",
       "      <th>City</th>\n",
       "      <th>Country</th>\n",
       "      <th>Lat</th>\n",
       "      <th>Lon</th>\n",
       "      <th>Max Temp</th>\n",
       "      <th>Description</th>\n",
       "      <th>Hotel Name</th>\n",
       "    </tr>\n",
       "  </thead>\n",
       "  <tbody>\n",
       "    <tr>\n",
       "      <th>0</th>\n",
       "      <td>Figline valdarno</td>\n",
       "      <td>IT</td>\n",
       "      <td>43.6195</td>\n",
       "      <td>11.4693</td>\n",
       "      <td>75.52</td>\n",
       "      <td>clear sky</td>\n",
       "      <td>Hotel Villa Casagrande</td>\n",
       "    </tr>\n",
       "    <tr>\n",
       "      <th>1</th>\n",
       "      <td>Venafro</td>\n",
       "      <td>IT</td>\n",
       "      <td>41.4834</td>\n",
       "      <td>14.0451</td>\n",
       "      <td>75.85</td>\n",
       "      <td>clear sky</td>\n",
       "      <td>Dimora delPrete di Belmonte Residenza d'Epoca</td>\n",
       "    </tr>\n",
       "    <tr>\n",
       "      <th>2</th>\n",
       "      <td>Udine</td>\n",
       "      <td>IT</td>\n",
       "      <td>46.0619</td>\n",
       "      <td>13.2422</td>\n",
       "      <td>77.81</td>\n",
       "      <td>clear sky</td>\n",
       "      <td>Best Western Hotel Continental</td>\n",
       "    </tr>\n",
       "    <tr>\n",
       "      <th>3</th>\n",
       "      <td>Zogno</td>\n",
       "      <td>IT</td>\n",
       "      <td>45.7919</td>\n",
       "      <td>9.6562</td>\n",
       "      <td>78.12</td>\n",
       "      <td>clear sky</td>\n",
       "      <td>da Gianni Ristorante Hotel</td>\n",
       "    </tr>\n",
       "  </tbody>\n",
       "</table>\n",
       "</div>"
      ],
      "text/plain": [
       "               City Country      Lat      Lon  Max Temp Description  \\\n",
       "0  Figline valdarno      IT  43.6195  11.4693     75.52   clear sky   \n",
       "1           Venafro      IT  41.4834  14.0451     75.85   clear sky   \n",
       "2             Udine      IT  46.0619  13.2422     77.81   clear sky   \n",
       "3             Zogno      IT  45.7919   9.6562     78.12   clear sky   \n",
       "\n",
       "                                      Hotel Name  \n",
       "0                         Hotel Villa Casagrande  \n",
       "1  Dimora delPrete di Belmonte Residenza d'Epoca  \n",
       "2                 Best Western Hotel Continental  \n",
       "3                     da Gianni Ristorante Hotel  "
      ]
     },
     "execution_count": 15,
     "metadata": {},
     "output_type": "execute_result"
    }
   ],
   "source": [
    "# From the map above pick 4 cities and create a vacation itinerary route to travel between the four cities. \n",
    "# 5. Create DataFrames for each city by filtering the 'vacation_df' using the loc method. \n",
    "\n",
    "# Start/End @ Figline valdarno, Italy; 1) Venafro, Italy; 2) Udine, Italy; 3) Zogno, Italy\n",
    "start = vacation_df[vacation_df['City']== 'Figline valdarno']\n",
    "stop1 = vacation_df[vacation_df['City']=='Venafro']\n",
    "stop2 = vacation_df[vacation_df['City']=='Udine'] \n",
    "stop3 = vacation_df[vacation_df['City']=='Zogno']\n",
    "\n",
    "# # one dataframe for the trip  start and end are index 0\n",
    "trip_df = pd.concat([ start, stop1, stop2, stop3], ignore_index=True)\n",
    "trip_df"
   ]
  },
  {
   "cell_type": "code",
   "execution_count": 6,
   "metadata": {},
   "outputs": [
    {
     "data": {
      "text/plain": [
       "[(43.6195, 11.4693), (41.4834, 14.0451), (46.0619, 13.2422), (45.7919, 9.6562)]"
      ]
     },
     "execution_count": 6,
     "metadata": {},
     "output_type": "execute_result"
    }
   ],
   "source": [
    "# 6. Get the latitude-longitude pairs as tuples from each city \n",
    "waypoints = list(zip(trip_df['Lat'], trip_df['Lon']))\n",
    "waypoints"
   ]
  },
  {
   "cell_type": "code",
   "execution_count": 7,
   "metadata": {},
   "outputs": [
    {
     "data": {
      "text/plain": [
       "['\\n<dl>\\n<dt>Hotel Name</dt>   <dd>Hotel Villa Casagrande</dd>\\n<dt>City</dt>   <dd>Figline valdarno</dd>\\n<dt>Country</dt>   <dd>IT</dd>\\n<dt>Current Weather</dt>   <dd>clear sky and 75.52°F</dd>\\n</dl>\\n',\n",
       " \"\\n<dl>\\n<dt>Hotel Name</dt>   <dd>Dimora delPrete di Belmonte Residenza d'Epoca</dd>\\n<dt>City</dt>   <dd>Venafro</dd>\\n<dt>Country</dt>   <dd>IT</dd>\\n<dt>Current Weather</dt>   <dd>clear sky and 75.85°F</dd>\\n</dl>\\n\",\n",
       " '\\n<dl>\\n<dt>Hotel Name</dt>   <dd>Best Western Hotel Continental</dd>\\n<dt>City</dt>   <dd>Udine</dd>\\n<dt>Country</dt>   <dd>IT</dd>\\n<dt>Current Weather</dt>   <dd>clear sky and 77.81°F</dd>\\n</dl>\\n',\n",
       " '\\n<dl>\\n<dt>Hotel Name</dt>   <dd>da Gianni Ristorante Hotel</dd>\\n<dt>City</dt>   <dd>Zogno</dd>\\n<dt>Country</dt>   <dd>IT</dd>\\n<dt>Current Weather</dt>   <dd>clear sky and 78.12°F</dd>\\n</dl>\\n']"
      ]
     },
     "execution_count": 7,
     "metadata": {},
     "output_type": "execute_result"
    }
   ],
   "source": [
    "marker_box_template = \"\"\"\n",
    "<dl>\n",
    "<dt>Hotel Name</dt>   <dd>{Hotel Name}</dd>\n",
    "<dt>City</dt>   <dd>{City}</dd>\n",
    "<dt>Country</dt>   <dd>{Country}</dd>\n",
    "<dt>Current Weather</dt>   <dd>{Description} and {Max Temp}\\u00B0F</dd>\n",
    "</dl>\n",
    "\"\"\"\n",
    "trip_info = [marker_box_template.format(**row) for index, row in trip_df.iterrows()]\n",
    "trip_info"
   ]
  },
  {
   "cell_type": "code",
   "execution_count": 14,
   "metadata": {
    "scrolled": true
   },
   "outputs": [
    {
     "data": {
      "application/vnd.jupyter.widget-view+json": {
       "model_id": "e54e9870a0614cd1978d65ed84b1aca2",
       "version_major": 2,
       "version_minor": 0
      },
      "text/plain": [
       "Figure(layout=FigureLayout(height='420px'))"
      ]
     },
     "metadata": {},
     "output_type": "display_data"
    }
   ],
   "source": [
    "# 7. Create a direction layer map using the start and end latitude-longitude pairs,\n",
    "# and stop1, stop2, and stop3 as the waypoints. The travel_mode should be \"DRIVING\", \"BICYCLING\", or \"WALKING\".\n",
    "trip_fig = gmaps.figure(center=waypoints[0], zoom_level=6)\n",
    "\n",
    "trip_marker = gmaps.marker_layer(trip_df[['Lat', 'Lon']], info_box_content=trip_info)\n",
    "trip_fig.add_layer(trip_marker)\n",
    "\n",
    "start_end= gmaps.directions_layer(waypoints[0], waypoints[0], travel_mode='DRIVING', waypoints=waypoints[1:])\n",
    "trip_fig.add_layer(start_end)\n",
    "trip_fig\n"
   ]
  },
  {
   "cell_type": "code",
   "execution_count": null,
   "metadata": {},
   "outputs": [],
   "source": []
  },
  {
   "cell_type": "code",
   "execution_count": null,
   "metadata": {},
   "outputs": [],
   "source": []
  },
  {
   "cell_type": "code",
   "execution_count": null,
   "metadata": {},
   "outputs": [],
   "source": []
  },
  {
   "cell_type": "code",
   "execution_count": null,
   "metadata": {},
   "outputs": [],
   "source": []
  },
  {
   "cell_type": "code",
   "execution_count": null,
   "metadata": {},
   "outputs": [],
   "source": []
  },
  {
   "cell_type": "code",
   "execution_count": null,
   "metadata": {},
   "outputs": [],
   "source": []
  }
 ],
 "metadata": {
  "kernelspec": {
   "display_name": "PythonData",
   "language": "python",
   "name": "pythondata"
  },
  "language_info": {
   "codemirror_mode": {
    "name": "ipython",
    "version": 3
   },
   "file_extension": ".py",
   "mimetype": "text/x-python",
   "name": "python",
   "nbconvert_exporter": "python",
   "pygments_lexer": "ipython3",
   "version": "3.9.12"
  },
  "latex_envs": {
   "LaTeX_envs_menu_present": true,
   "autoclose": false,
   "autocomplete": true,
   "bibliofile": "biblio.bib",
   "cite_by": "apalike",
   "current_citInitial": 1,
   "eqLabelWithNumbers": true,
   "eqNumInitial": 1,
   "hotkeys": {
    "equation": "Ctrl-E",
    "itemize": "Ctrl-I"
   },
   "labels_anchors": false,
   "latex_user_defs": false,
   "report_style_numbering": false,
   "user_envs_cfg": false
  }
 },
 "nbformat": 4,
 "nbformat_minor": 2
}
